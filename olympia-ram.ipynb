{
 "cells": [
  {
   "cell_type": "code",
   "execution_count": 1,
   "metadata": {},
   "outputs": [
    {
     "name": "stderr",
     "output_type": "stream",
     "text": [
      "Using TensorFlow backend.\n",
      "c:\\users\\mfili\\appdata\\local\\programs\\python\\python36\\lib\\site-packages\\tensorflow\\python\\framework\\dtypes.py:516: FutureWarning: Passing (type, 1) or '1type' as a synonym of type is deprecated; in a future version of numpy, it will be understood as (type, (1,)) / '(1,)type'.\n",
      "  _np_qint8 = np.dtype([(\"qint8\", np.int8, 1)])\n",
      "c:\\users\\mfili\\appdata\\local\\programs\\python\\python36\\lib\\site-packages\\tensorflow\\python\\framework\\dtypes.py:517: FutureWarning: Passing (type, 1) or '1type' as a synonym of type is deprecated; in a future version of numpy, it will be understood as (type, (1,)) / '(1,)type'.\n",
      "  _np_quint8 = np.dtype([(\"quint8\", np.uint8, 1)])\n",
      "c:\\users\\mfili\\appdata\\local\\programs\\python\\python36\\lib\\site-packages\\tensorflow\\python\\framework\\dtypes.py:518: FutureWarning: Passing (type, 1) or '1type' as a synonym of type is deprecated; in a future version of numpy, it will be understood as (type, (1,)) / '(1,)type'.\n",
      "  _np_qint16 = np.dtype([(\"qint16\", np.int16, 1)])\n",
      "c:\\users\\mfili\\appdata\\local\\programs\\python\\python36\\lib\\site-packages\\tensorflow\\python\\framework\\dtypes.py:519: FutureWarning: Passing (type, 1) or '1type' as a synonym of type is deprecated; in a future version of numpy, it will be understood as (type, (1,)) / '(1,)type'.\n",
      "  _np_quint16 = np.dtype([(\"quint16\", np.uint16, 1)])\n",
      "c:\\users\\mfili\\appdata\\local\\programs\\python\\python36\\lib\\site-packages\\tensorflow\\python\\framework\\dtypes.py:520: FutureWarning: Passing (type, 1) or '1type' as a synonym of type is deprecated; in a future version of numpy, it will be understood as (type, (1,)) / '(1,)type'.\n",
      "  _np_qint32 = np.dtype([(\"qint32\", np.int32, 1)])\n",
      "c:\\users\\mfili\\appdata\\local\\programs\\python\\python36\\lib\\site-packages\\tensorflow\\python\\framework\\dtypes.py:525: FutureWarning: Passing (type, 1) or '1type' as a synonym of type is deprecated; in a future version of numpy, it will be understood as (type, (1,)) / '(1,)type'.\n",
      "  np_resource = np.dtype([(\"resource\", np.ubyte, 1)])\n",
      "c:\\users\\mfili\\appdata\\local\\programs\\python\\python36\\lib\\site-packages\\tensorboard\\compat\\tensorflow_stub\\dtypes.py:541: FutureWarning: Passing (type, 1) or '1type' as a synonym of type is deprecated; in a future version of numpy, it will be understood as (type, (1,)) / '(1,)type'.\n",
      "  _np_qint8 = np.dtype([(\"qint8\", np.int8, 1)])\n",
      "c:\\users\\mfili\\appdata\\local\\programs\\python\\python36\\lib\\site-packages\\tensorboard\\compat\\tensorflow_stub\\dtypes.py:542: FutureWarning: Passing (type, 1) or '1type' as a synonym of type is deprecated; in a future version of numpy, it will be understood as (type, (1,)) / '(1,)type'.\n",
      "  _np_quint8 = np.dtype([(\"quint8\", np.uint8, 1)])\n",
      "c:\\users\\mfili\\appdata\\local\\programs\\python\\python36\\lib\\site-packages\\tensorboard\\compat\\tensorflow_stub\\dtypes.py:543: FutureWarning: Passing (type, 1) or '1type' as a synonym of type is deprecated; in a future version of numpy, it will be understood as (type, (1,)) / '(1,)type'.\n",
      "  _np_qint16 = np.dtype([(\"qint16\", np.int16, 1)])\n",
      "c:\\users\\mfili\\appdata\\local\\programs\\python\\python36\\lib\\site-packages\\tensorboard\\compat\\tensorflow_stub\\dtypes.py:544: FutureWarning: Passing (type, 1) or '1type' as a synonym of type is deprecated; in a future version of numpy, it will be understood as (type, (1,)) / '(1,)type'.\n",
      "  _np_quint16 = np.dtype([(\"quint16\", np.uint16, 1)])\n",
      "c:\\users\\mfili\\appdata\\local\\programs\\python\\python36\\lib\\site-packages\\tensorboard\\compat\\tensorflow_stub\\dtypes.py:545: FutureWarning: Passing (type, 1) or '1type' as a synonym of type is deprecated; in a future version of numpy, it will be understood as (type, (1,)) / '(1,)type'.\n",
      "  _np_qint32 = np.dtype([(\"qint32\", np.int32, 1)])\n",
      "c:\\users\\mfili\\appdata\\local\\programs\\python\\python36\\lib\\site-packages\\tensorboard\\compat\\tensorflow_stub\\dtypes.py:550: FutureWarning: Passing (type, 1) or '1type' as a synonym of type is deprecated; in a future version of numpy, it will be understood as (type, (1,)) / '(1,)type'.\n",
      "  np_resource = np.dtype([(\"resource\", np.ubyte, 1)])\n"
     ]
    }
   ],
   "source": [
    "import random\n",
    "import gym\n",
    "from olympia.envs import OlympiaRGB, OlympiaRAM\n",
    "import numpy as np\n",
    "from collections import deque\n",
    "from keras.models import Sequential\n",
    "from keras.layers import Dense\n",
    "from keras.optimizers import Adam\n",
    "import time"
   ]
  },
  {
   "cell_type": "code",
   "execution_count": null,
   "metadata": {},
   "outputs": [],
   "source": [
    "if __name__ == \"__main__\":\n",
    "    EPISODES = 1000\n",
    "    shape = (21, 15)\n",
    "    training_level = 'one player'\n",
    "    env = OlympiaRAM(shape=shape, training_level=training_level)\n",
    "    agents = env.get_agents()\n",
    "#    state_size = env.observation_space.shape[0]\n",
    "#    action_size = env.action_space.n\n",
    "    #agents = (AgentRAM(env=env, team=)) * n_agents\n",
    "    # agent.load(\"soccer.h5\")\n",
    "    done = False\n",
    "    batch_size = 32\n",
    "    start_time = time.time()\n",
    "    for e in range(EPISODES):\n",
    "        state = env.reset()\n",
    "        while not done:\n",
    "            #env.render()\n",
    "            actions = [agent.choose_action(state) for agent in agents]\n",
    "            next_state, rewards, done, _ = env.step(*actions)\n",
    "            for agent, action, reward in zip(agents, actions, rewards):       \n",
    "                agent.remember(state, action, reward, next_state, done)\n",
    "                if len(agent.memory) > batch_size and not done:\n",
    "                    agent.replay(batch_size)\n",
    "            if done:\n",
    "                print(\"Episode {}/{} complete. Training time: {}\"\n",
    "                      .format(e, EPISODES, time.time() - start_time))\n",
    "            state = next_state\n",
    "        # if e % 10 == 0:\n",
    "        #     agent.save(\"soccer.h5\")"
   ]
  },
  {
   "cell_type": "code",
   "execution_count": 4,
   "metadata": {},
   "outputs": [
    {
     "name": "stdout",
     "output_type": "stream",
     "text": [
      "agent7.h5\n"
     ]
    }
   ],
   "source": [
    "a = 'agent' + str(7) + '.h5'\n",
    "print(a)"
   ]
  },
  {
   "cell_type": "markdown",
   "metadata": {},
   "source": [
    "# RGB"
   ]
  },
  {
   "cell_type": "code",
   "execution_count": 2,
   "metadata": {},
   "outputs": [
    {
     "name": "stdout",
     "output_type": "stream",
     "text": [
      "Episode 0/1000 complete. Training time: 53.3862509727478\n"
     ]
    }
   ],
   "source": [
    "if __name__ == \"__main__\":\n",
    "    EPISODES = 1000\n",
    "    shape = (21, 15)\n",
    "    training_level = 'one player'\n",
    "    env = OlympiaRGB(shape=shape, training_level=training_level)\n",
    "    agents = env.get_agents()\n",
    "#    state_size = env.observation_space.shape[0]\n",
    "#    action_size = env.action_space.n\n",
    "    #agents = (AgentRAM(env=env, team=)) * n_agents\n",
    "    # agent.load(\"soccer.h5\")\n",
    "    done = False\n",
    "    batch_size = 32\n",
    "    start_time = time.time()\n",
    "    for e in range(EPISODES):\n",
    "        state = env.reset()\n",
    "        while not done:\n",
    "            #env.render()\n",
    "            actions = [agent.choose_action(state) for agent in agents]\n",
    "            next_state, rewards, done, _ = env.step(*actions)\n",
    "            for agent, action, reward in zip(agents, actions, rewards):       \n",
    "                agent.remember(state, action, reward, next_state, done)\n",
    "                if len(agent.memory) > batch_size and not done:\n",
    "                    agent.replay(batch_size)\n",
    "            if done:\n",
    "                print(\"Episode {}/{} complete. Training time: {}\"\n",
    "                      .format(e, EPISODES, time.time() - start_time))\n",
    "            state = next_state"
   ]
  },
  {
   "cell_type": "code",
   "execution_count": null,
   "metadata": {},
   "outputs": [],
   "source": []
  },
  {
   "cell_type": "code",
   "execution_count": null,
   "metadata": {},
   "outputs": [],
   "source": [
    "shape = (21, 15)\n",
    "training_level = 'one v one'\n",
    "batch_size = 25\n",
    "train_episodes = 1000\n",
    "run_episodes = 3\n",
    "\n",
    "env = OlympiaRGB(shape=shape, training_level=training_level)\n",
    "#env.train(episodes=train_episodes, batch_size=batch_size, render=False, load_saved=False)\n",
    "#env.run(episodes=run_episodes,render=True)"
   ]
  }
 ],
 "metadata": {
  "kernelspec": {
   "display_name": "Python 3",
   "language": "python",
   "name": "python3"
  },
  "language_info": {
   "codemirror_mode": {
    "name": "ipython",
    "version": 3
   },
   "file_extension": ".py",
   "mimetype": "text/x-python",
   "name": "python",
   "nbconvert_exporter": "python",
   "pygments_lexer": "ipython3",
   "version": "3.6.5"
  }
 },
 "nbformat": 4,
 "nbformat_minor": 4
}
